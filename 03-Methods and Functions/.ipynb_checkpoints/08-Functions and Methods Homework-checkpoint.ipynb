{
 "cells": [
  {
   "cell_type": "markdown",
   "metadata": {},
   "source": [
    "# Functions and Methods Homework \n",
    "\n",
    "Complete the following questions:\n",
    "____\n",
    "**Write a function that computes the volume of a sphere given its radius.**\n",
    "<p>The volume of a sphere is given as $$\\frac{4}{3} πr^3$$</p>"
   ]
  },
  {
   "cell_type": "code",
<<<<<<< HEAD
   "execution_count": 4,
   "metadata": {},
   "outputs": [],
   "source": [
    "import math\n",
    "def vol(rad):\n",
    "    return (4/3) * math.pi * (rad ** 3)"
=======
   "execution_count": 1,
   "metadata": {},
   "outputs": [],
   "source": [
    "def vol(rad):\n",
    "    pass"
>>>>>>> 0584286d6e151e83b4c973b4f68a165a03026e76
   ]
  },
  {
   "cell_type": "code",
<<<<<<< HEAD
   "execution_count": 5,
=======
   "execution_count": 2,
>>>>>>> 0584286d6e151e83b4c973b4f68a165a03026e76
   "metadata": {},
   "outputs": [
    {
     "data": {
      "text/plain": [
<<<<<<< HEAD
       "33.510321638291124"
      ]
     },
     "execution_count": 5,
=======
       "33.49333333333333"
      ]
     },
     "execution_count": 2,
>>>>>>> 0584286d6e151e83b4c973b4f68a165a03026e76
     "metadata": {},
     "output_type": "execute_result"
    }
   ],
   "source": [
    "# Check\n",
    "vol(2)"
   ]
  },
  {
   "cell_type": "markdown",
   "metadata": {},
   "source": [
    "___\n",
    "**Write a function that checks whether a number is in a given range (inclusive of high and low)**"
   ]
  },
  {
   "cell_type": "code",
<<<<<<< HEAD
   "execution_count": 8,
=======
   "execution_count": 3,
>>>>>>> 0584286d6e151e83b4c973b4f68a165a03026e76
   "metadata": {},
   "outputs": [],
   "source": [
    "def ran_check(num,low,high):\n",
<<<<<<< HEAD
    "    return low <= num <= high"
=======
    "    pass"
>>>>>>> 0584286d6e151e83b4c973b4f68a165a03026e76
   ]
  },
  {
   "cell_type": "code",
<<<<<<< HEAD
   "execution_count": 9,
   "metadata": {},
   "outputs": [
    {
     "data": {
      "text/plain": [
       "True"
      ]
     },
     "execution_count": 9,
     "metadata": {},
     "output_type": "execute_result"
=======
   "execution_count": 4,
   "metadata": {},
   "outputs": [
    {
     "name": "stdout",
     "output_type": "stream",
     "text": [
      "5 is in the range between 2 and 7\n"
     ]
>>>>>>> 0584286d6e151e83b4c973b4f68a165a03026e76
    }
   ],
   "source": [
    "# Check\n",
    "ran_check(5,2,7)"
   ]
  },
  {
   "cell_type": "markdown",
   "metadata": {},
   "source": [
    "If you only wanted to return a boolean:"
   ]
  },
  {
   "cell_type": "code",
<<<<<<< HEAD
   "execution_count": 10,
=======
   "execution_count": 5,
>>>>>>> 0584286d6e151e83b4c973b4f68a165a03026e76
   "metadata": {},
   "outputs": [],
   "source": [
    "def ran_bool(num,low,high):\n",
<<<<<<< HEAD
    "    return ran_check(num,low,high)"
=======
    "    pass"
>>>>>>> 0584286d6e151e83b4c973b4f68a165a03026e76
   ]
  },
  {
   "cell_type": "code",
<<<<<<< HEAD
   "execution_count": 11,
=======
   "execution_count": 6,
>>>>>>> 0584286d6e151e83b4c973b4f68a165a03026e76
   "metadata": {},
   "outputs": [
    {
     "data": {
      "text/plain": [
       "True"
      ]
     },
<<<<<<< HEAD
     "execution_count": 11,
=======
     "execution_count": 6,
>>>>>>> 0584286d6e151e83b4c973b4f68a165a03026e76
     "metadata": {},
     "output_type": "execute_result"
    }
   ],
   "source": [
    "ran_bool(3,1,10)"
   ]
  },
  {
   "cell_type": "markdown",
   "metadata": {},
   "source": [
    "____\n",
    "**Write a Python function that accepts a string and calculates the number of upper case letters and lower case letters.**\n",
    "\n",
    "    Sample String : 'Hello Mr. Rogers, how are you this fine Tuesday?'\n",
    "    Expected Output : \n",
    "    No. of Upper case characters : 4\n",
    "    No. of Lower case Characters : 33\n",
    "\n",
    "HINT: Two string methods that might prove useful: **.isupper()** and **.islower()**\n",
    "\n",
    "If you feel ambitious, explore the Collections module to solve this problem!"
   ]
  },
  {
   "cell_type": "code",
<<<<<<< HEAD
   "execution_count": 12,
=======
   "execution_count": 7,
>>>>>>> 0584286d6e151e83b4c973b4f68a165a03026e76
   "metadata": {},
   "outputs": [],
   "source": [
    "def up_low(s):\n",
<<<<<<< HEAD
    "    u = [r for r in s if r.isupper()]\n",
    "    l = [r for r in s if r.islower()]\n",
    "    print(f\"Original String: {s}\\nNo. of Upper case characters: {len(u)}\\nNo. of Lower case characters: {len(l)}\")"
=======
    "    pass"
>>>>>>> 0584286d6e151e83b4c973b4f68a165a03026e76
   ]
  },
  {
   "cell_type": "code",
<<<<<<< HEAD
   "execution_count": 13,
=======
   "execution_count": 8,
>>>>>>> 0584286d6e151e83b4c973b4f68a165a03026e76
   "metadata": {},
   "outputs": [
    {
     "name": "stdout",
     "output_type": "stream",
     "text": [
<<<<<<< HEAD
      "Original String: Hello Mr. Rogers, how are you this fine Tuesday?\n",
      "No. of Upper case characters: 4\n",
      "No. of Lower case characters: 33\n"
=======
      "Original String :  Hello Mr. Rogers, how are you this fine Tuesday?\n",
      "No. of Upper case characters :  4\n",
      "No. of Lower case Characters :  33\n"
>>>>>>> 0584286d6e151e83b4c973b4f68a165a03026e76
     ]
    }
   ],
   "source": [
    "s = 'Hello Mr. Rogers, how are you this fine Tuesday?'\n",
    "up_low(s)"
   ]
  },
  {
   "cell_type": "markdown",
   "metadata": {},
   "source": [
    "____\n",
    "**Write a Python function that takes a list and returns a new list with unique elements of the first list.**\n",
    "\n",
    "    Sample List : [1,1,1,1,2,2,3,3,3,3,4,5]\n",
    "    Unique List : [1, 2, 3, 4, 5]"
   ]
  },
  {
   "cell_type": "code",
<<<<<<< HEAD
   "execution_count": 14,
=======
   "execution_count": 9,
>>>>>>> 0584286d6e151e83b4c973b4f68a165a03026e76
   "metadata": {},
   "outputs": [],
   "source": [
    "def unique_list(lst):\n",
<<<<<<< HEAD
    "    return list(set(lst))"
=======
    "    pass"
>>>>>>> 0584286d6e151e83b4c973b4f68a165a03026e76
   ]
  },
  {
   "cell_type": "code",
<<<<<<< HEAD
   "execution_count": 15,
=======
   "execution_count": 10,
>>>>>>> 0584286d6e151e83b4c973b4f68a165a03026e76
   "metadata": {},
   "outputs": [
    {
     "data": {
      "text/plain": [
       "[1, 2, 3, 4, 5]"
      ]
     },
<<<<<<< HEAD
     "execution_count": 15,
=======
     "execution_count": 10,
>>>>>>> 0584286d6e151e83b4c973b4f68a165a03026e76
     "metadata": {},
     "output_type": "execute_result"
    }
   ],
   "source": [
    "unique_list([1,1,1,1,2,2,3,3,3,3,4,5])"
   ]
  },
  {
   "cell_type": "markdown",
   "metadata": {},
   "source": [
    "____\n",
    "**Write a Python function to multiply all the numbers in a list.**\n",
    "\n",
    "    Sample List : [1, 2, 3, -4]\n",
    "    Expected Output : -24"
   ]
  },
  {
   "cell_type": "code",
<<<<<<< HEAD
   "execution_count": 16,
=======
   "execution_count": 11,
>>>>>>> 0584286d6e151e83b4c973b4f68a165a03026e76
   "metadata": {},
   "outputs": [],
   "source": [
    "def multiply(numbers):  \n",
<<<<<<< HEAD
    "    prod = 1\n",
    "    for n in numbers:\n",
    "        prod *= n\n",
    "    return prod"
=======
    "    pass"
>>>>>>> 0584286d6e151e83b4c973b4f68a165a03026e76
   ]
  },
  {
   "cell_type": "code",
<<<<<<< HEAD
   "execution_count": 17,
=======
   "execution_count": 12,
>>>>>>> 0584286d6e151e83b4c973b4f68a165a03026e76
   "metadata": {},
   "outputs": [
    {
     "data": {
      "text/plain": [
       "-24"
      ]
     },
<<<<<<< HEAD
     "execution_count": 17,
=======
     "execution_count": 12,
>>>>>>> 0584286d6e151e83b4c973b4f68a165a03026e76
     "metadata": {},
     "output_type": "execute_result"
    }
   ],
   "source": [
    "multiply([1,2,3,-4])"
   ]
  },
  {
   "cell_type": "markdown",
   "metadata": {},
   "source": [
    "____\n",
    "**Write a Python function that checks whether a passed in string is palindrome or not.**\n",
    "\n",
    "Note: A palindrome is word, phrase, or sequence that reads the same backward as forward, e.g., madam or nurses run."
   ]
  },
  {
   "cell_type": "code",
<<<<<<< HEAD
   "execution_count": 20,
=======
   "execution_count": 13,
>>>>>>> 0584286d6e151e83b4c973b4f68a165a03026e76
   "metadata": {},
   "outputs": [],
   "source": [
    "def palindrome(s):\n",
<<<<<<< HEAD
    "    return s == s[::-1]"
=======
    "    pass"
>>>>>>> 0584286d6e151e83b4c973b4f68a165a03026e76
   ]
  },
  {
   "cell_type": "code",
<<<<<<< HEAD
   "execution_count": 21,
=======
   "execution_count": 14,
>>>>>>> 0584286d6e151e83b4c973b4f68a165a03026e76
   "metadata": {},
   "outputs": [
    {
     "data": {
      "text/plain": [
       "True"
      ]
     },
<<<<<<< HEAD
     "execution_count": 21,
=======
     "execution_count": 14,
>>>>>>> 0584286d6e151e83b4c973b4f68a165a03026e76
     "metadata": {},
     "output_type": "execute_result"
    }
   ],
   "source": [
    "palindrome('helleh')"
   ]
  },
  {
   "cell_type": "markdown",
   "metadata": {},
   "source": [
    "____\n",
    "#### Hard:\n",
    "\n",
    "**Write a Python function to check whether a string is pangram or not.**\n",
    "\n",
    "    Note : Pangrams are words or sentences containing every letter of the alphabet at least once.\n",
    "    For example : \"The quick brown fox jumps over the lazy dog\"\n",
    "\n",
    "Hint: Look at the string module"
   ]
  },
  {
   "cell_type": "code",
<<<<<<< HEAD
   "execution_count": 55,
=======
   "execution_count": 15,
>>>>>>> 0584286d6e151e83b4c973b4f68a165a03026e76
   "metadata": {},
   "outputs": [],
   "source": [
    "import string\n",
    "\n",
    "def ispangram(str1, alphabet=string.ascii_lowercase):\n",
<<<<<<< HEAD
    "    return not(False in [False for l in alphabet if not l in str1.lower() and l != ' '])"
=======
    "    pass"
>>>>>>> 0584286d6e151e83b4c973b4f68a165a03026e76
   ]
  },
  {
   "cell_type": "code",
<<<<<<< HEAD
   "execution_count": 56,
=======
   "execution_count": 16,
>>>>>>> 0584286d6e151e83b4c973b4f68a165a03026e76
   "metadata": {},
   "outputs": [
    {
     "data": {
      "text/plain": [
       "True"
      ]
     },
<<<<<<< HEAD
     "execution_count": 56,
=======
     "execution_count": 16,
>>>>>>> 0584286d6e151e83b4c973b4f68a165a03026e76
     "metadata": {},
     "output_type": "execute_result"
    }
   ],
   "source": [
    "ispangram(\"The quick brown fox jumps over the lazy dog\")"
   ]
  },
  {
   "cell_type": "code",
   "execution_count": 17,
   "metadata": {},
   "outputs": [
    {
     "data": {
      "text/plain": [
       "'abcdefghijklmnopqrstuvwxyz'"
      ]
     },
     "execution_count": 17,
     "metadata": {},
     "output_type": "execute_result"
    }
   ],
   "source": [
    "string.ascii_lowercase"
   ]
  },
  {
   "cell_type": "markdown",
   "metadata": {
    "collapsed": true
   },
   "source": [
    "#### Great Job!"
   ]
  }
 ],
 "metadata": {
  "kernelspec": {
   "display_name": "Python 3",
   "language": "python",
   "name": "python3"
  },
  "language_info": {
   "codemirror_mode": {
    "name": "ipython",
    "version": 3
   },
   "file_extension": ".py",
   "mimetype": "text/x-python",
   "name": "python",
   "nbconvert_exporter": "python",
   "pygments_lexer": "ipython3",
   "version": "3.7.6"
  }
 },
 "nbformat": 4,
 "nbformat_minor": 1
}
